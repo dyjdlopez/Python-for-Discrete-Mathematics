{
 "cells": [
  {
   "cell_type": "code",
   "execution_count": null,
   "metadata": {},
   "outputs": [],
   "source": []
  },
  {
   "cell_type": "markdown",
   "metadata": {},
   "source": [
    "# Propositional Logic"
   ]
  },
  {
   "cell_type": "markdown",
   "metadata": {},
   "source": [
    "This code activity will try to guide you in applying the concepts, methods, and appplications of Propositional Logic through code. We will go through with the algorithms used to dervide Propositional Logic , and then we will try to look at a practical example through a user's requirement."
   ]
  },
  {
   "cell_type": "markdown",
   "metadata": {},
   "source": [
    "### Implication"
   ]
  },
  {
   "cell_type": "markdown",
   "metadata": {},
   "source": [
    "Starting with implication would make explaining propositional logic in code.\n",
    "\n",
    "Normally, we express implication or the conditional statement as $p$ implies $q$ with the logical connective $\\rightarrow$. In code, the antecedent $p$ or the premise serves as the condition argument and sometimes the parameter while the consequent $q$ is the resulting action given the condition. We formall denote this as:"
   ]
  },
  {
   "cell_type": "markdown",
   "metadata": {},
   "source": [
    "<h3>$$p\\rightarrow q$$</h3>"
   ]
  },
  {
   "cell_type": "markdown",
   "metadata": {},
   "source": [
    "We can also visualize this using a flowchart so it can be easily implemented as an algorithm."
   ]
  },
  {
   "cell_type": "markdown",
   "metadata": {},
   "source": [
    "<img src=\"img/if.jpeg\" width=150 align=\"center\"/>"
   ]
  },
  {
   "cell_type": "markdown",
   "metadata": {},
   "source": [
    "As an example, we are given a statement:"
   ]
  },
  {
   "cell_type": "markdown",
   "metadata": {},
   "source": [
    "<center>\n",
    "    <h4>\n",
    "        <i>\n",
    "\"The lights of the room will turn on if the sensor detects people.\"\n",
    "        </i>\n",
    "    </h4>  \n",
    "</center>"
   ]
  },
  {
   "cell_type": "markdown",
   "metadata": {},
   "source": [
    "<center>\n",
    "    We can then formalize this into our wff as: <br>\n",
    "    $p$ = Sensor detects people <br>\n",
    "    $q$ = The lights turn on <br>\n",
    "    $p\\rightarrow q$\n",
    "    \n",
    "</center>"
   ]
  },
  {
   "cell_type": "markdown",
   "metadata": {},
   "source": [
    "It can then be coded as such:"
   ]
  },
  {
   "cell_type": "code",
   "execution_count": null,
   "metadata": {},
   "outputs": [],
   "source": []
  },
  {
   "cell_type": "markdown",
   "metadata": {},
   "source": [
    "However, when talking about conditions it is natural to add the else clause or the negative consequent. The else statement or clause can be phrased as: if not $q$ then $r$. Although the opposite reaction will be observed as the alternative consequent of $\\neg p$ it is not the same as the negation of $\\neg q$, thus it is translated as a different event $r$. It can then have the wff as:   "
   ]
  },
  {
   "cell_type": "markdown",
   "metadata": {},
   "source": [
    "<h3>$$(p\\rightarrow q)  \\land (\\neg p \\rightarrow r) $$</h3>"
   ]
  },
  {
   "cell_type": "markdown",
   "metadata": {},
   "source": [
    "And for it's flowchart:"
   ]
  },
  {
   "cell_type": "markdown",
   "metadata": {},
   "source": [
    "<img src=\"img/else.jpeg\" width=300 align=\"center\"/>"
   ]
  },
  {
   "cell_type": "markdown",
   "metadata": {},
   "source": [
    "We can also modifying the previous statement as:"
   ]
  },
  {
   "cell_type": "markdown",
   "metadata": {},
   "source": [
    "<center>\n",
    "    <h4>\n",
    "        <i>\n",
    "\"The lights of the room will turn on if the sensor detects people, otherwise the lights will turn off.\"\n",
    "        </i>\n",
    "    </h4>  \n",
    "</center>"
   ]
  },
  {
   "cell_type": "markdown",
   "metadata": {},
   "source": [
    "<center>\n",
    "    We can then formalize this into our wff as: <br>\n",
    "    $p$ = Sensor detects people <br>\n",
    "    $q$ = The lights turn on <br>\n",
    "    $r$ = The lights turn off <br>\n",
    "    $(p\\rightarrow q)\\land(\\neg p\\rightarrow r)$\n",
    "    \n",
    "</center>"
   ]
  },
  {
   "cell_type": "markdown",
   "metadata": {},
   "source": [
    "We can then code this as:"
   ]
  },
  {
   "cell_type": "code",
   "execution_count": null,
   "metadata": {},
   "outputs": [],
   "source": []
  },
  {
   "cell_type": "markdown",
   "metadata": {},
   "source": [
    "The third case of implications in programming is the appearance of a third or nth condition. In other programming languages thise can be in the form of cases switch statements or \n",
    "else if statements, but for Python it is implemented as elif. The elif statement or any other additional statement can be interjected into the if..else statement as a nestedimplication $a\\rightarrow b$ and its alternative consequent. We can then restructure the wff as:"
   ]
  },
  {
   "cell_type": "markdown",
   "metadata": {},
   "source": [
    "<h3>$$(p\\rightarrow q) \\land  (\\neg p \\rightarrow ((a \\rightarrow b) \\land (\\neg a \\rightarrow b))) $$</h3>"
   ]
  },
  {
   "cell_type": "markdown",
   "metadata": {},
   "source": [
    "Visualizing the wff:"
   ]
  },
  {
   "cell_type": "markdown",
   "metadata": {},
   "source": [
    "<img src=\"img/elif.jpeg\" width=300 align=\"center\"/>"
   ]
  },
  {
   "cell_type": "markdown",
   "metadata": {},
   "source": [
    "We can then thry to increase the number of cases of the previous statement: "
   ]
  },
  {
   "cell_type": "markdown",
   "metadata": {},
   "source": [
    "<center>\n",
    "    <h4>\n",
    "        <i>\n",
    "\"The lights of the room will be turned on slighlty if the sensor detects one person, if there are more than one it turns to the birthests setting, if there are no people the lights will turn off.\"\n",
    "        </i>\n",
    "    </h4>  \n",
    "</center>"
   ]
  },
  {
   "cell_type": "markdown",
   "metadata": {},
   "source": [
    "<center>\n",
    "    We can then formalize this into our wff as: <br>\n",
    "    $p$ = Sensor detects on person <br>\n",
    "    $a$ = Sensor detects more than one person<br><br>\n",
    "    $q$ = The lights turn on slightly<br>\n",
    "    $b$ = The lights turn on fully<br>\n",
    "    $r$ = The lights turn off <br>\n",
    "    $(p\\rightarrow q)\\land(\\neg p\\rightarrow ((a \\rightarrow b) \\land (\\neg a \\rightarrow b)))$\n",
    "    \n",
    "</center>"
   ]
  },
  {
   "cell_type": "markdown",
   "metadata": {},
   "source": [
    "Then we can code it as:"
   ]
  },
  {
   "cell_type": "code",
   "execution_count": null,
   "metadata": {},
   "outputs": [],
   "source": []
  },
  {
   "cell_type": "code",
   "execution_count": null,
   "metadata": {},
   "outputs": [],
   "source": []
  },
  {
   "cell_type": "code",
   "execution_count": null,
   "metadata": {},
   "outputs": [],
   "source": []
  },
  {
   "cell_type": "code",
   "execution_count": null,
   "metadata": {},
   "outputs": [],
   "source": []
  },
  {
   "cell_type": "code",
   "execution_count": null,
   "metadata": {},
   "outputs": [],
   "source": []
  },
  {
   "cell_type": "code",
   "execution_count": null,
   "metadata": {},
   "outputs": [],
   "source": []
  },
  {
   "cell_type": "code",
   "execution_count": null,
   "metadata": {},
   "outputs": [],
   "source": []
  },
  {
   "cell_type": "code",
   "execution_count": null,
   "metadata": {},
   "outputs": [],
   "source": []
  },
  {
   "cell_type": "code",
   "execution_count": null,
   "metadata": {},
   "outputs": [],
   "source": []
  },
  {
   "cell_type": "code",
   "execution_count": null,
   "metadata": {},
   "outputs": [],
   "source": []
  },
  {
   "cell_type": "markdown",
   "metadata": {},
   "source": [
    "## Activities"
   ]
  },
  {
   "cell_type": "markdown",
   "metadata": {},
   "source": [
    "<h4><center><i>Input your statement here.</i></center></h4>"
   ]
  },
  {
   "cell_type": "markdown",
   "metadata": {},
   "source": [
    "<center>Input your $formulas$ here.</center>"
   ]
  },
  {
   "cell_type": "code",
   "execution_count": null,
   "metadata": {},
   "outputs": [],
   "source": [
    "'''\n",
    "ACTIVITY 1 (5 points)\n",
    "\n",
    "You will be given either a statement or a formula as your activity. If you are given a formula please translate them into an English statement, \n",
    "however, if you are given an English statement translate them to a wff. For both cases provide the code below, then run it to display the output.\n",
    "'''\n",
    "### START YOUR CODE BELOW HERE ###\n",
    "\n",
    "\n",
    "\n",
    "### END OF CODE ###"
   ]
  },
  {
   "cell_type": "code",
   "execution_count": null,
   "metadata": {},
   "outputs": [],
   "source": [
    "'''\n",
    "ACTIVITY 2 (5 points)\n",
    "\n",
    "Given the image below this cell, implement the code corresponding to flowchart. For additional points (equivalent to 2 points), derive the simplified\n",
    "wff for the given flowchart.\n",
    "'''\n",
    "### START YOUR CODE BELOW HERE ###\n",
    "\n",
    "\n",
    "\n",
    "### END OF CODE ###"
   ]
  },
  {
   "cell_type": "code",
   "execution_count": 1,
   "metadata": {},
   "outputs": [
    {
     "name": "stdout",
     "output_type": "stream",
     "text": [
      "%history\n"
     ]
    }
   ],
   "source": []
  },
  {
   "cell_type": "markdown",
   "metadata": {},
   "source": [
    "## Scratch Area"
   ]
  },
  {
   "cell_type": "markdown",
   "metadata": {},
   "source": [
    "You can use the area below to try your own code."
   ]
  },
  {
   "cell_type": "code",
   "execution_count": null,
   "metadata": {},
   "outputs": [],
   "source": []
  }
 ],
 "metadata": {
  "kernelspec": {
   "display_name": "Python 3",
   "language": "python",
   "name": "python3"
  },
  "language_info": {
   "codemirror_mode": {
    "name": "ipython",
    "version": 3
   },
   "file_extension": ".py",
   "mimetype": "text/x-python",
   "name": "python",
   "nbconvert_exporter": "python",
   "pygments_lexer": "ipython3",
   "version": "3.7.6"
  }
 },
 "nbformat": 4,
 "nbformat_minor": 4
}
